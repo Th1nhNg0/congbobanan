{
 "cells": [
  {
   "cell_type": "code",
   "execution_count": 2,
   "metadata": {},
   "outputs": [],
   "source": [
    "import pandas as pd"
   ]
  },
  {
   "cell_type": "code",
   "execution_count": 3,
   "metadata": {},
   "outputs": [
    {
     "name": "stderr",
     "output_type": "stream",
     "text": [
      "C:\\Users\\ngoph\\AppData\\Local\\Temp\\ipykernel_23900\\1993316442.py:1: DtypeWarning: Columns (10) have mixed types. Specify dtype option on import or set low_memory=False.\n",
      "  df = pd.read_csv('output.csv')\n"
     ]
    }
   ],
   "source": [
    "df = pd.read_csv('output.csv')"
   ]
  },
  {
   "cell_type": "code",
   "execution_count": 4,
   "metadata": {},
   "outputs": [
    {
     "data": {
      "text/html": [
       "<div>\n",
       "<style scoped>\n",
       "    .dataframe tbody tr th:only-of-type {\n",
       "        vertical-align: middle;\n",
       "    }\n",
       "\n",
       "    .dataframe tbody tr th {\n",
       "        vertical-align: top;\n",
       "    }\n",
       "\n",
       "    .dataframe thead th {\n",
       "        text-align: right;\n",
       "    }\n",
       "</style>\n",
       "<table border=\"1\" class=\"dataframe\">\n",
       "  <thead>\n",
       "    <tr style=\"text-align: right;\">\n",
       "      <th></th>\n",
       "      <th>url</th>\n",
       "      <th>type</th>\n",
       "      <th>id</th>\n",
       "      <th>date</th>\n",
       "      <th>Tên bản án:</th>\n",
       "      <th>Quan hệ pháp luật:</th>\n",
       "      <th>Cấp xét xử:</th>\n",
       "      <th>Loại vụ/việc:</th>\n",
       "      <th>Tòa án xét xử:</th>\n",
       "      <th>Áp dụng án lệ:</th>\n",
       "      <th>Đính chính:</th>\n",
       "      <th>Thông tin về vụ/việc:</th>\n",
       "    </tr>\n",
       "  </thead>\n",
       "  <tbody>\n",
       "    <tr>\n",
       "      <th>0</th>\n",
       "      <td>https://congbobanan.toaan.gov.vn/2ta1674525t1c...</td>\n",
       "      <td>banan</td>\n",
       "      <td>29/2024/HNGĐ-PT</td>\n",
       "      <td>ngày 19/08/2024</td>\n",
       "      <td>Tranh chấp hôn nhân và gia đình giữa anh Nguyễ...</td>\n",
       "      <td>Tranh chấp về nuôi con, chia tài sản của nam, ...</td>\n",
       "      <td>Phúc thẩm</td>\n",
       "      <td>Hôn nhân và gia đình</td>\n",
       "      <td>TAND cấp cao tại Hà Nội</td>\n",
       "      <td>Không</td>\n",
       "      <td>0</td>\n",
       "      <td>Chấp nhận một phần nội dung kháng cáo của nguy...</td>\n",
       "    </tr>\n",
       "    <tr>\n",
       "      <th>1</th>\n",
       "      <td>https://congbobanan.toaan.gov.vn/2ta1674541t1c...</td>\n",
       "      <td>banan</td>\n",
       "      <td>272/2024/DS-PT</td>\n",
       "      <td>ngày 16/09/2024</td>\n",
       "      <td>Yêu cầu huỷ Giấy chứng nhận quyền sử dụng đất,...</td>\n",
       "      <td>Tranh chấp đất đai</td>\n",
       "      <td>Phúc thẩm</td>\n",
       "      <td>Dân sự</td>\n",
       "      <td>TAND cấp cao tại Đà Nẵng</td>\n",
       "      <td>Không</td>\n",
       "      <td>0</td>\n",
       "      <td>Không chấp nhận kháng cáo của bị đơn bà Lê Thị...</td>\n",
       "    </tr>\n",
       "    <tr>\n",
       "      <th>2</th>\n",
       "      <td>https://congbobanan.toaan.gov.vn/2ta1674522t1c...</td>\n",
       "      <td>banan</td>\n",
       "      <td>19/2024/HS - ST</td>\n",
       "      <td>ngày 27/08/2024</td>\n",
       "      <td>Đàng Thị Tr, Điều 353 - phạm tội  tham ô tài s...</td>\n",
       "      <td>NaN</td>\n",
       "      <td>Sơ thẩm</td>\n",
       "      <td>NaN</td>\n",
       "      <td>TAND huyện Na Hang,  tỉnh Tuyên Quang</td>\n",
       "      <td>Không</td>\n",
       "      <td>0</td>\n",
       "      <td>NaN</td>\n",
       "    </tr>\n",
       "    <tr>\n",
       "      <th>3</th>\n",
       "      <td>https://congbobanan.toaan.gov.vn/2ta1674513t1c...</td>\n",
       "      <td>banan</td>\n",
       "      <td>25/2024/HS - ST</td>\n",
       "      <td>ngày 28/09/2024</td>\n",
       "      <td>Triệu Văn H + Đp, Điều 251, 256 - phạm tội  mu...</td>\n",
       "      <td>NaN</td>\n",
       "      <td>Sơ thẩm</td>\n",
       "      <td>NaN</td>\n",
       "      <td>TAND huyện Na Hang,  tỉnh Tuyên Quang</td>\n",
       "      <td>Không</td>\n",
       "      <td>0</td>\n",
       "      <td>NaN</td>\n",
       "    </tr>\n",
       "    <tr>\n",
       "      <th>4</th>\n",
       "      <td>https://congbobanan.toaan.gov.vn/2ta1674521t1c...</td>\n",
       "      <td>banan</td>\n",
       "      <td>42/2024/DSST</td>\n",
       "      <td>ngày 13/09/2024</td>\n",
       "      <td>Tranh chấp hợp đồng tín dụng</td>\n",
       "      <td>Tranh chấp hợp đồng tín dụng</td>\n",
       "      <td>Sơ thẩm</td>\n",
       "      <td>Dân sự</td>\n",
       "      <td>TAND huyện Krông Năng,  tỉnh Đắk Lắk</td>\n",
       "      <td>Không</td>\n",
       "      <td>0</td>\n",
       "      <td>Ngân hàng TMCP thành phố H khởi kiện tranh chấ...</td>\n",
       "    </tr>\n",
       "  </tbody>\n",
       "</table>\n",
       "</div>"
      ],
      "text/plain": [
       "                                                 url   type               id  \\\n",
       "0  https://congbobanan.toaan.gov.vn/2ta1674525t1c...  banan  29/2024/HNGĐ-PT   \n",
       "1  https://congbobanan.toaan.gov.vn/2ta1674541t1c...  banan   272/2024/DS-PT   \n",
       "2  https://congbobanan.toaan.gov.vn/2ta1674522t1c...  banan  19/2024/HS - ST   \n",
       "3  https://congbobanan.toaan.gov.vn/2ta1674513t1c...  banan  25/2024/HS - ST   \n",
       "4  https://congbobanan.toaan.gov.vn/2ta1674521t1c...  banan     42/2024/DSST   \n",
       "\n",
       "               date                                       Tên bản án:   \\\n",
       "0   ngày 19/08/2024  Tranh chấp hôn nhân và gia đình giữa anh Nguyễ...   \n",
       "1   ngày 16/09/2024  Yêu cầu huỷ Giấy chứng nhận quyền sử dụng đất,...   \n",
       "2   ngày 27/08/2024  Đàng Thị Tr, Điều 353 - phạm tội  tham ô tài s...   \n",
       "3   ngày 28/09/2024  Triệu Văn H + Đp, Điều 251, 256 - phạm tội  mu...   \n",
       "4   ngày 13/09/2024                      Tranh chấp hợp đồng tín dụng    \n",
       "\n",
       "                                  Quan hệ pháp luật: Cấp xét xử:   \\\n",
       "0  Tranh chấp về nuôi con, chia tài sản của nam, ...    Phúc thẩm   \n",
       "1                                 Tranh chấp đất đai    Phúc thẩm   \n",
       "2                                                NaN      Sơ thẩm   \n",
       "3                                                NaN      Sơ thẩm   \n",
       "4                       Tranh chấp hợp đồng tín dụng      Sơ thẩm   \n",
       "\n",
       "          Loại vụ/việc:                          Tòa án xét xử:  \\\n",
       "0  Hôn nhân và gia đình                 TAND cấp cao tại Hà Nội   \n",
       "1                Dân sự                TAND cấp cao tại Đà Nẵng   \n",
       "2                   NaN   TAND huyện Na Hang,  tỉnh Tuyên Quang   \n",
       "3                   NaN   TAND huyện Na Hang,  tỉnh Tuyên Quang   \n",
       "4                Dân sự    TAND huyện Krông Năng,  tỉnh Đắk Lắk   \n",
       "\n",
       "  Áp dụng án lệ: Đính chính:  \\\n",
       "0          Không           0   \n",
       "1          Không           0   \n",
       "2          Không           0   \n",
       "3          Không           0   \n",
       "4          Không           0   \n",
       "\n",
       "                              Thông tin về vụ/việc:   \n",
       "0  Chấp nhận một phần nội dung kháng cáo của nguy...  \n",
       "1  Không chấp nhận kháng cáo của bị đơn bà Lê Thị...  \n",
       "2                                                NaN  \n",
       "3                                                NaN  \n",
       "4  Ngân hàng TMCP thành phố H khởi kiện tranh chấ...  "
      ]
     },
     "execution_count": 4,
     "metadata": {},
     "output_type": "execute_result"
    }
   ],
   "source": [
    "df.head()"
   ]
  },
  {
   "cell_type": "code",
   "execution_count": 5,
   "metadata": {},
   "outputs": [
    {
     "data": {
      "text/plain": [
       "1603192"
      ]
     },
     "execution_count": 5,
     "metadata": {},
     "output_type": "execute_result"
    }
   ],
   "source": [
    "len(df)"
   ]
  },
  {
   "cell_type": "code",
   "execution_count": 6,
   "metadata": {},
   "outputs": [],
   "source": [
    "# extract number from url:\n",
    "# https://congbobanan.toaan.gov.vn/2ta1623357t1cvn/chi-tiet-ban-an\n",
    "# id is in between 2ta and t1cvn\n",
    "df['temp'] = df['url'].str.extract(r'2ta(\\d+)t1cvn')"
   ]
  },
  {
   "cell_type": "code",
   "execution_count": 7,
   "metadata": {},
   "outputs": [
    {
     "name": "stderr",
     "output_type": "stream",
     "text": [
      "C:\\Users\\ngoph\\AppData\\Local\\Temp\\ipykernel_23900\\1053963207.py:3: SettingWithCopyWarning: \n",
      "A value is trying to be set on a copy of a slice from a DataFrame.\n",
      "Try using .loc[row_indexer,col_indexer] = value instead\n",
      "\n",
      "See the caveats in the documentation: https://pandas.pydata.org/pandas-docs/stable/user_guide/indexing.html#returning-a-view-versus-a-copy\n",
      "  temp['url'] = temp['url'].str.replace('2ta', '5ta')\n"
     ]
    }
   ],
   "source": [
    "temp = df[df['type']=='banan']\n",
    "# export to a txt with url, replace 2ta with 5ta in ur\n",
    "temp['url'] = temp['url'].str.replace('2ta', '5ta')\n",
    "temp[['url']].to_csv('banan.txt', index=False, header=False)"
   ]
  },
  {
   "cell_type": "code",
   "execution_count": null,
   "metadata": {},
   "outputs": [],
   "source": [
    "df.to_csv('output.csv.bz2', index=False, compression='bz2')"
   ]
  },
  {
   "cell_type": "code",
   "execution_count": null,
   "metadata": {},
   "outputs": [
    {
     "name": "stderr",
     "output_type": "stream",
     "text": [
      "C:\\Users\\ngoph\\AppData\\Local\\Temp\\ipykernel_23900\\673523905.py:2: DtypeWarning: Columns (10) have mixed types. Specify dtype option on import or set low_memory=False.\n",
      "  df = pd.read_csv('output.csv.bz2')\n"
     ]
    },
    {
     "data": {
      "text/html": [
       "<div>\n",
       "<style scoped>\n",
       "    .dataframe tbody tr th:only-of-type {\n",
       "        vertical-align: middle;\n",
       "    }\n",
       "\n",
       "    .dataframe tbody tr th {\n",
       "        vertical-align: top;\n",
       "    }\n",
       "\n",
       "    .dataframe thead th {\n",
       "        text-align: right;\n",
       "    }\n",
       "</style>\n",
       "<table border=\"1\" class=\"dataframe\">\n",
       "  <thead>\n",
       "    <tr style=\"text-align: right;\">\n",
       "      <th></th>\n",
       "      <th>url</th>\n",
       "      <th>type</th>\n",
       "      <th>id</th>\n",
       "      <th>date</th>\n",
       "      <th>Tên bản án:</th>\n",
       "      <th>Quan hệ pháp luật:</th>\n",
       "      <th>Cấp xét xử:</th>\n",
       "      <th>Loại vụ/việc:</th>\n",
       "      <th>Tòa án xét xử:</th>\n",
       "      <th>Áp dụng án lệ:</th>\n",
       "      <th>Đính chính:</th>\n",
       "      <th>Thông tin về vụ/việc:</th>\n",
       "      <th>temp</th>\n",
       "    </tr>\n",
       "  </thead>\n",
       "  <tbody>\n",
       "    <tr>\n",
       "      <th>0</th>\n",
       "      <td>https://congbobanan.toaan.gov.vn/2ta1674525t1c...</td>\n",
       "      <td>banan</td>\n",
       "      <td>29/2024/HNGĐ-PT</td>\n",
       "      <td>ngày 19/08/2024</td>\n",
       "      <td>Tranh chấp hôn nhân và gia đình giữa anh Nguyễ...</td>\n",
       "      <td>Tranh chấp về nuôi con, chia tài sản của nam, ...</td>\n",
       "      <td>Phúc thẩm</td>\n",
       "      <td>Hôn nhân và gia đình</td>\n",
       "      <td>TAND cấp cao tại Hà Nội</td>\n",
       "      <td>Không</td>\n",
       "      <td>0</td>\n",
       "      <td>Chấp nhận một phần nội dung kháng cáo của nguy...</td>\n",
       "      <td>1674525.0</td>\n",
       "    </tr>\n",
       "    <tr>\n",
       "      <th>1</th>\n",
       "      <td>https://congbobanan.toaan.gov.vn/2ta1674541t1c...</td>\n",
       "      <td>banan</td>\n",
       "      <td>272/2024/DS-PT</td>\n",
       "      <td>ngày 16/09/2024</td>\n",
       "      <td>Yêu cầu huỷ Giấy chứng nhận quyền sử dụng đất,...</td>\n",
       "      <td>Tranh chấp đất đai</td>\n",
       "      <td>Phúc thẩm</td>\n",
       "      <td>Dân sự</td>\n",
       "      <td>TAND cấp cao tại Đà Nẵng</td>\n",
       "      <td>Không</td>\n",
       "      <td>0</td>\n",
       "      <td>Không chấp nhận kháng cáo của bị đơn bà Lê Thị...</td>\n",
       "      <td>1674541.0</td>\n",
       "    </tr>\n",
       "    <tr>\n",
       "      <th>2</th>\n",
       "      <td>https://congbobanan.toaan.gov.vn/2ta1674522t1c...</td>\n",
       "      <td>banan</td>\n",
       "      <td>19/2024/HS - ST</td>\n",
       "      <td>ngày 27/08/2024</td>\n",
       "      <td>Đàng Thị Tr, Điều 353 - phạm tội  tham ô tài s...</td>\n",
       "      <td>NaN</td>\n",
       "      <td>Sơ thẩm</td>\n",
       "      <td>NaN</td>\n",
       "      <td>TAND huyện Na Hang,  tỉnh Tuyên Quang</td>\n",
       "      <td>Không</td>\n",
       "      <td>0</td>\n",
       "      <td>NaN</td>\n",
       "      <td>1674522.0</td>\n",
       "    </tr>\n",
       "    <tr>\n",
       "      <th>3</th>\n",
       "      <td>https://congbobanan.toaan.gov.vn/2ta1674513t1c...</td>\n",
       "      <td>banan</td>\n",
       "      <td>25/2024/HS - ST</td>\n",
       "      <td>ngày 28/09/2024</td>\n",
       "      <td>Triệu Văn H + Đp, Điều 251, 256 - phạm tội  mu...</td>\n",
       "      <td>NaN</td>\n",
       "      <td>Sơ thẩm</td>\n",
       "      <td>NaN</td>\n",
       "      <td>TAND huyện Na Hang,  tỉnh Tuyên Quang</td>\n",
       "      <td>Không</td>\n",
       "      <td>0</td>\n",
       "      <td>NaN</td>\n",
       "      <td>1674513.0</td>\n",
       "    </tr>\n",
       "    <tr>\n",
       "      <th>4</th>\n",
       "      <td>https://congbobanan.toaan.gov.vn/2ta1674521t1c...</td>\n",
       "      <td>banan</td>\n",
       "      <td>42/2024/DSST</td>\n",
       "      <td>ngày 13/09/2024</td>\n",
       "      <td>Tranh chấp hợp đồng tín dụng</td>\n",
       "      <td>Tranh chấp hợp đồng tín dụng</td>\n",
       "      <td>Sơ thẩm</td>\n",
       "      <td>Dân sự</td>\n",
       "      <td>TAND huyện Krông Năng,  tỉnh Đắk Lắk</td>\n",
       "      <td>Không</td>\n",
       "      <td>0</td>\n",
       "      <td>Ngân hàng TMCP thành phố H khởi kiện tranh chấ...</td>\n",
       "      <td>1674521.0</td>\n",
       "    </tr>\n",
       "  </tbody>\n",
       "</table>\n",
       "</div>"
      ],
      "text/plain": [
       "                                                 url   type               id  \\\n",
       "0  https://congbobanan.toaan.gov.vn/2ta1674525t1c...  banan  29/2024/HNGĐ-PT   \n",
       "1  https://congbobanan.toaan.gov.vn/2ta1674541t1c...  banan   272/2024/DS-PT   \n",
       "2  https://congbobanan.toaan.gov.vn/2ta1674522t1c...  banan  19/2024/HS - ST   \n",
       "3  https://congbobanan.toaan.gov.vn/2ta1674513t1c...  banan  25/2024/HS - ST   \n",
       "4  https://congbobanan.toaan.gov.vn/2ta1674521t1c...  banan     42/2024/DSST   \n",
       "\n",
       "               date                                       Tên bản án:   \\\n",
       "0   ngày 19/08/2024  Tranh chấp hôn nhân và gia đình giữa anh Nguyễ...   \n",
       "1   ngày 16/09/2024  Yêu cầu huỷ Giấy chứng nhận quyền sử dụng đất,...   \n",
       "2   ngày 27/08/2024  Đàng Thị Tr, Điều 353 - phạm tội  tham ô tài s...   \n",
       "3   ngày 28/09/2024  Triệu Văn H + Đp, Điều 251, 256 - phạm tội  mu...   \n",
       "4   ngày 13/09/2024                      Tranh chấp hợp đồng tín dụng    \n",
       "\n",
       "                                  Quan hệ pháp luật: Cấp xét xử:   \\\n",
       "0  Tranh chấp về nuôi con, chia tài sản của nam, ...    Phúc thẩm   \n",
       "1                                 Tranh chấp đất đai    Phúc thẩm   \n",
       "2                                                NaN      Sơ thẩm   \n",
       "3                                                NaN      Sơ thẩm   \n",
       "4                       Tranh chấp hợp đồng tín dụng      Sơ thẩm   \n",
       "\n",
       "          Loại vụ/việc:                          Tòa án xét xử:  \\\n",
       "0  Hôn nhân và gia đình                 TAND cấp cao tại Hà Nội   \n",
       "1                Dân sự                TAND cấp cao tại Đà Nẵng   \n",
       "2                   NaN   TAND huyện Na Hang,  tỉnh Tuyên Quang   \n",
       "3                   NaN   TAND huyện Na Hang,  tỉnh Tuyên Quang   \n",
       "4                Dân sự    TAND huyện Krông Năng,  tỉnh Đắk Lắk   \n",
       "\n",
       "  Áp dụng án lệ: Đính chính:  \\\n",
       "0          Không           0   \n",
       "1          Không           0   \n",
       "2          Không           0   \n",
       "3          Không           0   \n",
       "4          Không           0   \n",
       "\n",
       "                              Thông tin về vụ/việc:        temp  \n",
       "0  Chấp nhận một phần nội dung kháng cáo của nguy...  1674525.0  \n",
       "1  Không chấp nhận kháng cáo của bị đơn bà Lê Thị...  1674541.0  \n",
       "2                                                NaN  1674522.0  \n",
       "3                                                NaN  1674513.0  \n",
       "4  Ngân hàng TMCP thành phố H khởi kiện tranh chấ...  1674521.0  "
      ]
     },
     "execution_count": 9,
     "metadata": {},
     "output_type": "execute_result"
    }
   ],
   "source": [
    "# read\n",
    "df = pd.read_csv('output.csv.bz2')"
   ]
  },
  {
   "cell_type": "code",
   "execution_count": 10,
   "metadata": {},
   "outputs": [
    {
     "data": {
      "text/plain": [
       "1603192"
      ]
     },
     "execution_count": 10,
     "metadata": {},
     "output_type": "execute_result"
    }
   ],
   "source": [
    "len(df)"
   ]
  }
 ],
 "metadata": {
  "kernelspec": {
   "display_name": "me",
   "language": "python",
   "name": "python3"
  },
  "language_info": {
   "codemirror_mode": {
    "name": "ipython",
    "version": 3
   },
   "file_extension": ".py",
   "mimetype": "text/x-python",
   "name": "python",
   "nbconvert_exporter": "python",
   "pygments_lexer": "ipython3",
   "version": "3.12.3"
  }
 },
 "nbformat": 4,
 "nbformat_minor": 2
}
